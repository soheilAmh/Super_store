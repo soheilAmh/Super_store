{
 "cells": [
  {
   "cell_type": "markdown",
   "id": "d3cf4de1",
   "metadata": {},
   "source": [
    "Library imports"
   ]
  },
  {
   "cell_type": "code",
   "execution_count": 186,
   "id": "db642da4",
   "metadata": {},
   "outputs": [],
   "source": [
    "import numpy as np\n",
    "import pandas as pd\n",
    "import matplotlib.pyplot as plt\n",
    "from scipy import stats\n",
    "from scipy.stats import shapiro\n",
    "from scipy.stats import mannwhitneyu"
   ]
  },
  {
   "cell_type": "markdown",
   "id": "c45c35b6",
   "metadata": {},
   "source": [
    "reading files"
   ]
  },
  {
   "cell_type": "code",
   "execution_count": 187,
   "id": "c53902d8",
   "metadata": {},
   "outputs": [
    {
     "data": {
      "text/html": [
       "<div>\n",
       "<style scoped>\n",
       "    .dataframe tbody tr th:only-of-type {\n",
       "        vertical-align: middle;\n",
       "    }\n",
       "\n",
       "    .dataframe tbody tr th {\n",
       "        vertical-align: top;\n",
       "    }\n",
       "\n",
       "    .dataframe thead th {\n",
       "        text-align: right;\n",
       "    }\n",
       "</style>\n",
       "<table border=\"1\" class=\"dataframe\">\n",
       "  <thead>\n",
       "    <tr style=\"text-align: right;\">\n",
       "      <th></th>\n",
       "      <th>Order ID</th>\n",
       "      <th>Product ID</th>\n",
       "      <th>Sales</th>\n",
       "      <th>Quantity</th>\n",
       "      <th>Discount_Label</th>\n",
       "      <th>Profit</th>\n",
       "      <th>Shipping Cost</th>\n",
       "    </tr>\n",
       "  </thead>\n",
       "  <tbody>\n",
       "    <tr>\n",
       "      <th>0</th>\n",
       "      <td>MX-2014-141208</td>\n",
       "      <td>44</td>\n",
       "      <td>661.320007</td>\n",
       "      <td>2</td>\n",
       "      <td>No Discount</td>\n",
       "      <td>205.00</td>\n",
       "      <td>47.069</td>\n",
       "    </tr>\n",
       "    <tr>\n",
       "      <th>1</th>\n",
       "      <td>MX-2014-121076</td>\n",
       "      <td>186</td>\n",
       "      <td>162.759995</td>\n",
       "      <td>2</td>\n",
       "      <td>No Discount</td>\n",
       "      <td>27.64</td>\n",
       "      <td>6.633</td>\n",
       "    </tr>\n",
       "    <tr>\n",
       "      <th>2</th>\n",
       "      <td>MX-2013-115084</td>\n",
       "      <td>112</td>\n",
       "      <td>191.960007</td>\n",
       "      <td>2</td>\n",
       "      <td>No Discount</td>\n",
       "      <td>30.68</td>\n",
       "      <td>14.717</td>\n",
       "    </tr>\n",
       "    <tr>\n",
       "      <th>3</th>\n",
       "      <td>MX-2014-137554</td>\n",
       "      <td>128</td>\n",
       "      <td>164.600006</td>\n",
       "      <td>2</td>\n",
       "      <td>No Discount</td>\n",
       "      <td>21.36</td>\n",
       "      <td>9.245</td>\n",
       "    </tr>\n",
       "    <tr>\n",
       "      <th>4</th>\n",
       "      <td>MX-2014-159282</td>\n",
       "      <td>263</td>\n",
       "      <td>607.359985</td>\n",
       "      <td>2</td>\n",
       "      <td>No Discount</td>\n",
       "      <td>133.60</td>\n",
       "      <td>0.875</td>\n",
       "    </tr>\n",
       "    <tr>\n",
       "      <th>...</th>\n",
       "      <td>...</td>\n",
       "      <td>...</td>\n",
       "      <td>...</td>\n",
       "      <td>...</td>\n",
       "      <td>...</td>\n",
       "      <td>...</td>\n",
       "      <td>...</td>\n",
       "    </tr>\n",
       "    <tr>\n",
       "      <th>49665</th>\n",
       "      <td>MX-2013-141425</td>\n",
       "      <td>1733</td>\n",
       "      <td>28.351999</td>\n",
       "      <td>2</td>\n",
       "      <td>Discount</td>\n",
       "      <td>7.43</td>\n",
       "      <td>1.719</td>\n",
       "    </tr>\n",
       "    <tr>\n",
       "      <th>49666</th>\n",
       "      <td>MX-2013-141425</td>\n",
       "      <td>2834</td>\n",
       "      <td>61.824001</td>\n",
       "      <td>2</td>\n",
       "      <td>Discount</td>\n",
       "      <td>17.74</td>\n",
       "      <td>2.808</td>\n",
       "    </tr>\n",
       "    <tr>\n",
       "      <th>49667</th>\n",
       "      <td>US-2013-132374</td>\n",
       "      <td>1455</td>\n",
       "      <td>44.784000</td>\n",
       "      <td>3</td>\n",
       "      <td>Discount</td>\n",
       "      <td>-11.20</td>\n",
       "      <td>2.494</td>\n",
       "    </tr>\n",
       "    <tr>\n",
       "      <th>49668</th>\n",
       "      <td>US-2014-115658</td>\n",
       "      <td>852</td>\n",
       "      <td>23.712000</td>\n",
       "      <td>3</td>\n",
       "      <td>Discount</td>\n",
       "      <td>-2.09</td>\n",
       "      <td>1.482</td>\n",
       "    </tr>\n",
       "    <tr>\n",
       "      <th>49669</th>\n",
       "      <td>MX-2014-150427</td>\n",
       "      <td>2590</td>\n",
       "      <td>15.872000</td>\n",
       "      <td>1</td>\n",
       "      <td>Discount</td>\n",
       "      <td>2.37</td>\n",
       "      <td>0.605</td>\n",
       "    </tr>\n",
       "  </tbody>\n",
       "</table>\n",
       "<p>49670 rows × 7 columns</p>\n",
       "</div>"
      ],
      "text/plain": [
       "             Order ID  Product ID       Sales  Quantity Discount_Label  \\\n",
       "0      MX-2014-141208          44  661.320007         2    No Discount   \n",
       "1      MX-2014-121076         186  162.759995         2    No Discount   \n",
       "2      MX-2013-115084         112  191.960007         2    No Discount   \n",
       "3      MX-2014-137554         128  164.600006         2    No Discount   \n",
       "4      MX-2014-159282         263  607.359985         2    No Discount   \n",
       "...               ...         ...         ...       ...            ...   \n",
       "49665  MX-2013-141425        1733   28.351999         2       Discount   \n",
       "49666  MX-2013-141425        2834   61.824001         2       Discount   \n",
       "49667  US-2013-132374        1455   44.784000         3       Discount   \n",
       "49668  US-2014-115658         852   23.712000         3       Discount   \n",
       "49669  MX-2014-150427        2590   15.872000         1       Discount   \n",
       "\n",
       "       Profit  Shipping Cost  \n",
       "0      205.00         47.069  \n",
       "1       27.64          6.633  \n",
       "2       30.68         14.717  \n",
       "3       21.36          9.245  \n",
       "4      133.60          0.875  \n",
       "...       ...            ...  \n",
       "49665    7.43          1.719  \n",
       "49666   17.74          2.808  \n",
       "49667  -11.20          2.494  \n",
       "49668   -2.09          1.482  \n",
       "49669    2.37          0.605  \n",
       "\n",
       "[49670 rows x 7 columns]"
      ]
     },
     "execution_count": 187,
     "metadata": {},
     "output_type": "execute_result"
    }
   ],
   "source": [
    "my_df = pd.read_csv('Fact_Sales.csv')\n",
    "my_df = my_df[['Order ID','Product ID','Sales','Quantity','Discount_Label','Profit','Shipping Cost']]\n",
    "my_df"
   ]
  },
  {
   "cell_type": "code",
   "execution_count": 188,
   "id": "d1a67a97",
   "metadata": {},
   "outputs": [
    {
     "data": {
      "text/plain": [
       "Product ID\n",
       "1439    107\n",
       "1757    101\n",
       "1138     85\n",
       "2585     82\n",
       "1178     80\n",
       "       ... \n",
       "2347      1\n",
       "3664      1\n",
       "3410      1\n",
       "3578      1\n",
       "3070      1\n",
       "Name: count, Length: 3671, dtype: int64"
      ]
     },
     "execution_count": 188,
     "metadata": {},
     "output_type": "execute_result"
    }
   ],
   "source": [
    "my_df['Product ID'].value_counts()"
   ]
  },
  {
   "cell_type": "code",
   "execution_count": 189,
   "id": "7e334661",
   "metadata": {},
   "outputs": [
    {
     "name": "stdout",
     "output_type": "stream",
     "text": [
      "<class 'pandas.core.frame.DataFrame'>\n",
      "RangeIndex: 49670 entries, 0 to 49669\n",
      "Data columns (total 7 columns):\n",
      " #   Column          Non-Null Count  Dtype  \n",
      "---  ------          --------------  -----  \n",
      " 0   Order ID        49670 non-null  object \n",
      " 1   Product ID      49670 non-null  int64  \n",
      " 2   Sales           49670 non-null  float64\n",
      " 3   Quantity        49670 non-null  int64  \n",
      " 4   Discount_Label  49670 non-null  object \n",
      " 5   Profit          49670 non-null  float64\n",
      " 6   Shipping Cost   49670 non-null  float64\n",
      "dtypes: float64(3), int64(2), object(2)\n",
      "memory usage: 2.7+ MB\n"
     ]
    }
   ],
   "source": [
    "my_df.info()"
   ]
  },
  {
   "cell_type": "code",
   "execution_count": 190,
   "id": "7b2a2289",
   "metadata": {},
   "outputs": [
    {
     "data": {
      "text/html": [
       "<div>\n",
       "<style scoped>\n",
       "    .dataframe tbody tr th:only-of-type {\n",
       "        vertical-align: middle;\n",
       "    }\n",
       "\n",
       "    .dataframe tbody tr th {\n",
       "        vertical-align: top;\n",
       "    }\n",
       "\n",
       "    .dataframe thead th {\n",
       "        text-align: right;\n",
       "    }\n",
       "</style>\n",
       "<table border=\"1\" class=\"dataframe\">\n",
       "  <thead>\n",
       "    <tr style=\"text-align: right;\">\n",
       "      <th></th>\n",
       "      <th>Product ID</th>\n",
       "      <th>Sales</th>\n",
       "      <th>Quantity</th>\n",
       "      <th>Profit</th>\n",
       "      <th>Shipping Cost</th>\n",
       "    </tr>\n",
       "  </thead>\n",
       "  <tbody>\n",
       "    <tr>\n",
       "      <th>count</th>\n",
       "      <td>49670.000000</td>\n",
       "      <td>49670.000000</td>\n",
       "      <td>49670.000000</td>\n",
       "      <td>49670.000000</td>\n",
       "      <td>49670.000000</td>\n",
       "    </tr>\n",
       "    <tr>\n",
       "      <th>mean</th>\n",
       "      <td>1758.260721</td>\n",
       "      <td>243.840355</td>\n",
       "      <td>3.470787</td>\n",
       "      <td>28.392251</td>\n",
       "      <td>26.041125</td>\n",
       "    </tr>\n",
       "    <tr>\n",
       "      <th>std</th>\n",
       "      <td>1004.295199</td>\n",
       "      <td>485.963091</td>\n",
       "      <td>2.274854</td>\n",
       "      <td>172.399533</td>\n",
       "      <td>56.870281</td>\n",
       "    </tr>\n",
       "    <tr>\n",
       "      <th>min</th>\n",
       "      <td>1.000000</td>\n",
       "      <td>0.444000</td>\n",
       "      <td>1.000000</td>\n",
       "      <td>-6599.980000</td>\n",
       "      <td>0.002000</td>\n",
       "    </tr>\n",
       "    <tr>\n",
       "      <th>25%</th>\n",
       "      <td>969.000000</td>\n",
       "      <td>30.384001</td>\n",
       "      <td>2.000000</td>\n",
       "      <td>0.000000</td>\n",
       "      <td>2.580000</td>\n",
       "    </tr>\n",
       "    <tr>\n",
       "      <th>50%</th>\n",
       "      <td>1747.500000</td>\n",
       "      <td>83.970001</td>\n",
       "      <td>3.000000</td>\n",
       "      <td>9.155000</td>\n",
       "      <td>7.660000</td>\n",
       "    </tr>\n",
       "    <tr>\n",
       "      <th>75%</th>\n",
       "      <td>2608.000000</td>\n",
       "      <td>247.829998</td>\n",
       "      <td>5.000000</td>\n",
       "      <td>36.267500</td>\n",
       "      <td>23.969000</td>\n",
       "    </tr>\n",
       "    <tr>\n",
       "      <th>max</th>\n",
       "      <td>3671.000000</td>\n",
       "      <td>22638.500000</td>\n",
       "      <td>14.000000</td>\n",
       "      <td>8399.980000</td>\n",
       "      <td>933.570000</td>\n",
       "    </tr>\n",
       "  </tbody>\n",
       "</table>\n",
       "</div>"
      ],
      "text/plain": [
       "         Product ID         Sales      Quantity        Profit  Shipping Cost\n",
       "count  49670.000000  49670.000000  49670.000000  49670.000000   49670.000000\n",
       "mean    1758.260721    243.840355      3.470787     28.392251      26.041125\n",
       "std     1004.295199    485.963091      2.274854    172.399533      56.870281\n",
       "min        1.000000      0.444000      1.000000  -6599.980000       0.002000\n",
       "25%      969.000000     30.384001      2.000000      0.000000       2.580000\n",
       "50%     1747.500000     83.970001      3.000000      9.155000       7.660000\n",
       "75%     2608.000000    247.829998      5.000000     36.267500      23.969000\n",
       "max     3671.000000  22638.500000     14.000000   8399.980000     933.570000"
      ]
     },
     "execution_count": 190,
     "metadata": {},
     "output_type": "execute_result"
    }
   ],
   "source": [
    "my_df.describe()"
   ]
  },
  {
   "cell_type": "code",
   "execution_count": 191,
   "id": "338d5708",
   "metadata": {},
   "outputs": [],
   "source": [
    "UnDiscounted_df = my_df[my_df['Discount_Label'] == 'No Discount'].reset_index(drop = True)\n",
    "Discounted_df = my_df[my_df['Discount_Label'] == 'Discount'].reset_index(drop = True)"
   ]
  },
  {
   "cell_type": "code",
   "execution_count": 192,
   "id": "e45cfbaa",
   "metadata": {},
   "outputs": [
    {
     "data": {
      "text/html": [
       "<div>\n",
       "<style scoped>\n",
       "    .dataframe tbody tr th:only-of-type {\n",
       "        vertical-align: middle;\n",
       "    }\n",
       "\n",
       "    .dataframe tbody tr th {\n",
       "        vertical-align: top;\n",
       "    }\n",
       "\n",
       "    .dataframe thead th {\n",
       "        text-align: right;\n",
       "    }\n",
       "</style>\n",
       "<table border=\"1\" class=\"dataframe\">\n",
       "  <thead>\n",
       "    <tr style=\"text-align: right;\">\n",
       "      <th></th>\n",
       "      <th>Order ID</th>\n",
       "      <th>Product ID</th>\n",
       "      <th>Sales</th>\n",
       "      <th>Quantity</th>\n",
       "      <th>Profit</th>\n",
       "      <th>Shipping Cost</th>\n",
       "    </tr>\n",
       "  </thead>\n",
       "  <tbody>\n",
       "    <tr>\n",
       "      <th>0</th>\n",
       "      <td>MX-2014-141208</td>\n",
       "      <td>44</td>\n",
       "      <td>661.320007</td>\n",
       "      <td>2</td>\n",
       "      <td>205.00</td>\n",
       "      <td>47.069</td>\n",
       "    </tr>\n",
       "    <tr>\n",
       "      <th>1</th>\n",
       "      <td>MX-2014-121076</td>\n",
       "      <td>186</td>\n",
       "      <td>162.759995</td>\n",
       "      <td>2</td>\n",
       "      <td>27.64</td>\n",
       "      <td>6.633</td>\n",
       "    </tr>\n",
       "    <tr>\n",
       "      <th>2</th>\n",
       "      <td>MX-2013-115084</td>\n",
       "      <td>112</td>\n",
       "      <td>191.960007</td>\n",
       "      <td>2</td>\n",
       "      <td>30.68</td>\n",
       "      <td>14.717</td>\n",
       "    </tr>\n",
       "    <tr>\n",
       "      <th>3</th>\n",
       "      <td>MX-2014-137554</td>\n",
       "      <td>128</td>\n",
       "      <td>164.600006</td>\n",
       "      <td>2</td>\n",
       "      <td>21.36</td>\n",
       "      <td>9.245</td>\n",
       "    </tr>\n",
       "    <tr>\n",
       "      <th>4</th>\n",
       "      <td>MX-2014-159282</td>\n",
       "      <td>263</td>\n",
       "      <td>607.359985</td>\n",
       "      <td>2</td>\n",
       "      <td>133.60</td>\n",
       "      <td>0.875</td>\n",
       "    </tr>\n",
       "    <tr>\n",
       "      <th>...</th>\n",
       "      <td>...</td>\n",
       "      <td>...</td>\n",
       "      <td>...</td>\n",
       "      <td>...</td>\n",
       "      <td>...</td>\n",
       "      <td>...</td>\n",
       "    </tr>\n",
       "    <tr>\n",
       "      <th>28098</th>\n",
       "      <td>ES-2014-5661706</td>\n",
       "      <td>1320</td>\n",
       "      <td>107.400002</td>\n",
       "      <td>2</td>\n",
       "      <td>8.58</td>\n",
       "      <td>9.500</td>\n",
       "    </tr>\n",
       "    <tr>\n",
       "      <th>28099</th>\n",
       "      <td>ES-2014-5662666</td>\n",
       "      <td>1192</td>\n",
       "      <td>38.400002</td>\n",
       "      <td>2</td>\n",
       "      <td>8.82</td>\n",
       "      <td>5.470</td>\n",
       "    </tr>\n",
       "    <tr>\n",
       "      <th>28100</th>\n",
       "      <td>IT-2011-2403893</td>\n",
       "      <td>1863</td>\n",
       "      <td>80.099998</td>\n",
       "      <td>2</td>\n",
       "      <td>3.96</td>\n",
       "      <td>10.830</td>\n",
       "    </tr>\n",
       "    <tr>\n",
       "      <th>28101</th>\n",
       "      <td>IT-2011-1396210</td>\n",
       "      <td>1768</td>\n",
       "      <td>253.919998</td>\n",
       "      <td>2</td>\n",
       "      <td>5.04</td>\n",
       "      <td>9.750</td>\n",
       "    </tr>\n",
       "    <tr>\n",
       "      <th>28102</th>\n",
       "      <td>IT-2014-5524294</td>\n",
       "      <td>1283</td>\n",
       "      <td>38.279999</td>\n",
       "      <td>2</td>\n",
       "      <td>8.40</td>\n",
       "      <td>1.970</td>\n",
       "    </tr>\n",
       "  </tbody>\n",
       "</table>\n",
       "<p>28103 rows × 6 columns</p>\n",
       "</div>"
      ],
      "text/plain": [
       "              Order ID  Product ID       Sales  Quantity  Profit  \\\n",
       "0       MX-2014-141208          44  661.320007         2  205.00   \n",
       "1       MX-2014-121076         186  162.759995         2   27.64   \n",
       "2       MX-2013-115084         112  191.960007         2   30.68   \n",
       "3       MX-2014-137554         128  164.600006         2   21.36   \n",
       "4       MX-2014-159282         263  607.359985         2  133.60   \n",
       "...                ...         ...         ...       ...     ...   \n",
       "28098  ES-2014-5661706        1320  107.400002         2    8.58   \n",
       "28099  ES-2014-5662666        1192   38.400002         2    8.82   \n",
       "28100  IT-2011-2403893        1863   80.099998         2    3.96   \n",
       "28101  IT-2011-1396210        1768  253.919998         2    5.04   \n",
       "28102  IT-2014-5524294        1283   38.279999         2    8.40   \n",
       "\n",
       "       Shipping Cost  \n",
       "0             47.069  \n",
       "1              6.633  \n",
       "2             14.717  \n",
       "3              9.245  \n",
       "4              0.875  \n",
       "...              ...  \n",
       "28098          9.500  \n",
       "28099          5.470  \n",
       "28100         10.830  \n",
       "28101          9.750  \n",
       "28102          1.970  \n",
       "\n",
       "[28103 rows x 6 columns]"
      ]
     },
     "execution_count": 192,
     "metadata": {},
     "output_type": "execute_result"
    }
   ],
   "source": [
    "UnDiscounted_df = UnDiscounted_df.drop('Discount_Label', axis=1)\n",
    "UnDiscounted_df"
   ]
  },
  {
   "cell_type": "code",
   "execution_count": 193,
   "id": "58f77596",
   "metadata": {},
   "outputs": [
    {
     "data": {
      "text/html": [
       "<div>\n",
       "<style scoped>\n",
       "    .dataframe tbody tr th:only-of-type {\n",
       "        vertical-align: middle;\n",
       "    }\n",
       "\n",
       "    .dataframe tbody tr th {\n",
       "        vertical-align: top;\n",
       "    }\n",
       "\n",
       "    .dataframe thead th {\n",
       "        text-align: right;\n",
       "    }\n",
       "</style>\n",
       "<table border=\"1\" class=\"dataframe\">\n",
       "  <thead>\n",
       "    <tr style=\"text-align: right;\">\n",
       "      <th></th>\n",
       "      <th>Order ID</th>\n",
       "      <th>Product ID</th>\n",
       "      <th>Sales</th>\n",
       "      <th>Quantity</th>\n",
       "      <th>Profit</th>\n",
       "      <th>Shipping Cost</th>\n",
       "    </tr>\n",
       "  </thead>\n",
       "  <tbody>\n",
       "    <tr>\n",
       "      <th>0</th>\n",
       "      <td>MX-2013-133417</td>\n",
       "      <td>52</td>\n",
       "      <td>1098.959961</td>\n",
       "      <td>5</td>\n",
       "      <td>233.46</td>\n",
       "      <td>66.627</td>\n",
       "    </tr>\n",
       "    <tr>\n",
       "      <th>1</th>\n",
       "      <td>MX-2012-146031</td>\n",
       "      <td>106</td>\n",
       "      <td>228.479996</td>\n",
       "      <td>3</td>\n",
       "      <td>-14.28</td>\n",
       "      <td>23.966</td>\n",
       "    </tr>\n",
       "    <tr>\n",
       "      <th>2</th>\n",
       "      <td>MX-2011-155299</td>\n",
       "      <td>253</td>\n",
       "      <td>753.888000</td>\n",
       "      <td>3</td>\n",
       "      <td>103.61</td>\n",
       "      <td>176.206</td>\n",
       "    </tr>\n",
       "    <tr>\n",
       "      <th>3</th>\n",
       "      <td>MX-2014-169607</td>\n",
       "      <td>173</td>\n",
       "      <td>776.000000</td>\n",
       "      <td>4</td>\n",
       "      <td>290.96</td>\n",
       "      <td>81.554</td>\n",
       "    </tr>\n",
       "    <tr>\n",
       "      <th>4</th>\n",
       "      <td>MX-2012-165491</td>\n",
       "      <td>213</td>\n",
       "      <td>381.760010</td>\n",
       "      <td>5</td>\n",
       "      <td>14.26</td>\n",
       "      <td>15.057</td>\n",
       "    </tr>\n",
       "    <tr>\n",
       "      <th>...</th>\n",
       "      <td>...</td>\n",
       "      <td>...</td>\n",
       "      <td>...</td>\n",
       "      <td>...</td>\n",
       "      <td>...</td>\n",
       "      <td>...</td>\n",
       "    </tr>\n",
       "    <tr>\n",
       "      <th>21562</th>\n",
       "      <td>MX-2013-141425</td>\n",
       "      <td>1733</td>\n",
       "      <td>28.351999</td>\n",
       "      <td>2</td>\n",
       "      <td>7.43</td>\n",
       "      <td>1.719</td>\n",
       "    </tr>\n",
       "    <tr>\n",
       "      <th>21563</th>\n",
       "      <td>MX-2013-141425</td>\n",
       "      <td>2834</td>\n",
       "      <td>61.824001</td>\n",
       "      <td>2</td>\n",
       "      <td>17.74</td>\n",
       "      <td>2.808</td>\n",
       "    </tr>\n",
       "    <tr>\n",
       "      <th>21564</th>\n",
       "      <td>US-2013-132374</td>\n",
       "      <td>1455</td>\n",
       "      <td>44.784000</td>\n",
       "      <td>3</td>\n",
       "      <td>-11.20</td>\n",
       "      <td>2.494</td>\n",
       "    </tr>\n",
       "    <tr>\n",
       "      <th>21565</th>\n",
       "      <td>US-2014-115658</td>\n",
       "      <td>852</td>\n",
       "      <td>23.712000</td>\n",
       "      <td>3</td>\n",
       "      <td>-2.09</td>\n",
       "      <td>1.482</td>\n",
       "    </tr>\n",
       "    <tr>\n",
       "      <th>21566</th>\n",
       "      <td>MX-2014-150427</td>\n",
       "      <td>2590</td>\n",
       "      <td>15.872000</td>\n",
       "      <td>1</td>\n",
       "      <td>2.37</td>\n",
       "      <td>0.605</td>\n",
       "    </tr>\n",
       "  </tbody>\n",
       "</table>\n",
       "<p>21567 rows × 6 columns</p>\n",
       "</div>"
      ],
      "text/plain": [
       "             Order ID  Product ID        Sales  Quantity  Profit  \\\n",
       "0      MX-2013-133417          52  1098.959961         5  233.46   \n",
       "1      MX-2012-146031         106   228.479996         3  -14.28   \n",
       "2      MX-2011-155299         253   753.888000         3  103.61   \n",
       "3      MX-2014-169607         173   776.000000         4  290.96   \n",
       "4      MX-2012-165491         213   381.760010         5   14.26   \n",
       "...               ...         ...          ...       ...     ...   \n",
       "21562  MX-2013-141425        1733    28.351999         2    7.43   \n",
       "21563  MX-2013-141425        2834    61.824001         2   17.74   \n",
       "21564  US-2013-132374        1455    44.784000         3  -11.20   \n",
       "21565  US-2014-115658         852    23.712000         3   -2.09   \n",
       "21566  MX-2014-150427        2590    15.872000         1    2.37   \n",
       "\n",
       "       Shipping Cost  \n",
       "0             66.627  \n",
       "1             23.966  \n",
       "2            176.206  \n",
       "3             81.554  \n",
       "4             15.057  \n",
       "...              ...  \n",
       "21562          1.719  \n",
       "21563          2.808  \n",
       "21564          2.494  \n",
       "21565          1.482  \n",
       "21566          0.605  \n",
       "\n",
       "[21567 rows x 6 columns]"
      ]
     },
     "execution_count": 193,
     "metadata": {},
     "output_type": "execute_result"
    }
   ],
   "source": [
    "Discounted_df = Discounted_df.drop('Discount_Label', axis=1)\n",
    "Discounted_df"
   ]
  },
  {
   "cell_type": "code",
   "execution_count": 194,
   "id": "09a53db6",
   "metadata": {},
   "outputs": [
    {
     "name": "stdout",
     "output_type": "stream",
     "text": [
      "Total number of the Discounted products sold : 76962\n",
      "Total number of the UnDiscounted products sold : 95432\n",
      "\n",
      "\n",
      "Average profit of the Discounted products per item : -62.122314647377934\n",
      "Average profit of the UnDiscounted products per item : 294.43631391666366\n"
     ]
    }
   ],
   "source": [
    "quantity_dis = Discounted_df['Quantity']\n",
    "quantity_undis = UnDiscounted_df['Quantity']\n",
    "print(\"Total number of the Discounted products sold :\", quantity_dis.sum())\n",
    "print(\"Total number of the UnDiscounted products sold :\",quantity_undis.sum())\n",
    "print(\"\\n\")\n",
    "print(\"Average profit of the Discounted products per item :\", (Discounted_df['Profit']*quantity_dis).mean())\n",
    "print(\"Average profit of the UnDiscounted products per item :\",(UnDiscounted_df['Profit']*quantity_undis).mean())"
   ]
  },
  {
   "cell_type": "markdown",
   "id": "d7d14553",
   "metadata": {},
   "source": [
    "So we have sold more products that were not discounted in total compared to the ones that were discounted  "
   ]
  },
  {
   "cell_type": "code",
   "execution_count": 195,
   "id": "d3ddd15f",
   "metadata": {},
   "outputs": [
    {
     "data": {
      "image/png": "[encoded data removed]",
      "text/plain": [
       "<Figure size 1000x1000 with 4 Axes>"
      ]
     },
     "metadata": {},
     "output_type": "display_data"
    }
   ],
   "source": [
    "fig, axes = plt.subplots(2, 2, figsize = (10,10), sharey=True)   \n",
    "axes[0,0].plot(UnDiscounted_df['Profit'],'o',color='blue')\n",
    "axes[0,0].set_title('No discount Products')\n",
    "axes[0,0].set_ylabel('Profit')\n",
    "\n",
    "axes[0,1].plot(Discounted_df['Profit'],'o',color='red')\n",
    "axes[0,1].set_title('Discounted Products')\n",
    "axes[0,1].set_ylabel('Profit')\n",
    "\n",
    "axes[1,0].boxplot([UnDiscounted_df['Profit']])\n",
    "axes[1,0].set_title('No discount Products')\n",
    "axes[1,0].set_ylabel('Profit')\n",
    "\n",
    "axes[1,1].boxplot([Discounted_df['Profit']])\n",
    "axes[1,1].set_title('Discounted Products')\n",
    "axes[1,1].set_ylabel('Profit')\n",
    "plt.show()"
   ]
  },
  {
   "cell_type": "code",
   "execution_count": 196,
   "id": "c3bfa485",
   "metadata": {},
   "outputs": [
    {
     "data": {
      "image/png": "[encoded data removed]",
      "text/plain": [
       "<Figure size 640x480 with 1 Axes>"
      ]
     },
     "metadata": {},
     "output_type": "display_data"
    }
   ],
   "source": [
    "plt.figure()\n",
    "plt.hist(Discounted_df['Quantity'], bins = 14, alpha = 0.4, label = 'Discounted', color = 'red')\n",
    "plt.hist(UnDiscounted_df['Quantity'], bins = 14, alpha = 0.4, label = 'UnDiscounted', color = 'blue')\n",
    "plt.legend()\n",
    "plt.xlabel('Quantity Sold')\n",
    "plt.ylabel('Amount')\n",
    "plt.title('Distribution of Quantity Sold for Dis and UnDis Products')\n",
    "plt.show()\n"
   ]
  },
  {
   "cell_type": "markdown",
   "id": "81319c65",
   "metadata": {},
   "source": [
    "As we can see almost in every quantity (1-14) the number of sold products in non-discounted items are bigger than the discounted ones"
   ]
  },
  {
   "cell_type": "code",
   "execution_count": 197,
   "id": "568f2965",
   "metadata": {},
   "outputs": [
    {
     "name": "stdout",
     "output_type": "stream",
     "text": [
      "ShapiroResult(statistic=0.8731356691343942, pvalue=8.73201467005546e-84)\n",
      "ShapiroResult(statistic=0.86203124088409, pvalue=8.376934348032687e-92)\n"
     ]
    },
    {
     "name": "stderr",
     "output_type": "stream",
     "text": [
      "d:\\Anaconda\\envs\\quera\\lib\\site-packages\\scipy\\stats\\_axis_nan_policy.py:531: UserWarning: scipy.stats.shapiro: For N > 5000, computed p-value may not be accurate. Current N is 21567.\n",
      "  res = hypotest_fun_out(*samples, **kwds)\n",
      "d:\\Anaconda\\envs\\quera\\lib\\site-packages\\scipy\\stats\\_axis_nan_policy.py:531: UserWarning: scipy.stats.shapiro: For N > 5000, computed p-value may not be accurate. Current N is 28103.\n",
      "  res = hypotest_fun_out(*samples, **kwds)\n"
     ]
    }
   ],
   "source": [
    "print(shapiro(Discounted_df['Quantity']))\n",
    "print(shapiro(UnDiscounted_df['Quantity']))"
   ]
  },
  {
   "cell_type": "code",
   "execution_count": 198,
   "id": "6f9a6410",
   "metadata": {},
   "outputs": [
    {
     "name": "stdout",
     "output_type": "stream",
     "text": [
      "ShapiroResult(statistic=0.9479994324269359, pvalue=1.472921729052189e-64)\n",
      "ShapiroResult(statistic=0.9349343070755137, pvalue=1.6377096836720477e-74)\n"
     ]
    }
   ],
   "source": [
    "# now i will use boxcox transformation to see if the data can be normalized or not\n",
    "discounted_quantity_transformed, lam = stats.boxcox(Discounted_df['Quantity'])\n",
    "undiscounted_quantity_transformed, lam2 = stats.boxcox(UnDiscounted_df['Quantity'])\n",
    "print(shapiro(discounted_quantity_transformed))\n",
    "print(shapiro(undiscounted_quantity_transformed))"
   ]
  },
  {
   "cell_type": "markdown",
   "id": "9166cbbe",
   "metadata": {},
   "source": [
    "As we can see the data is not normal even after boxcox transformation so we cannot use tests like T-Test or Anova and we should refer to non-parametric tests like mannwhitneyu"
   ]
  },
  {
   "cell_type": "code",
   "execution_count": 199,
   "id": "8b810195",
   "metadata": {},
   "outputs": [
    {
     "name": "stdout",
     "output_type": "stream",
     "text": [
      "mann Whitney u p-value: 1.2366179467933793e-30\n"
     ]
    }
   ],
   "source": [
    "u_stat, p_value = mannwhitneyu(Discounted_df['Quantity'], UnDiscounted_df['Quantity'])\n",
    "print(\"mann Whitney u p-value:\", p_value)"
   ]
  },
  {
   "cell_type": "code",
   "execution_count": 200,
   "id": "4810e042",
   "metadata": {},
   "outputs": [
    {
     "name": "stdout",
     "output_type": "stream",
     "text": [
      "We reject the H0 : There is a big difference between the two groups\n"
     ]
    }
   ],
   "source": [
    "if p_value < 0.05:\n",
    "    print(\"We reject the H0 : There is a big difference between the two groups\")\n",
    "else:\n",
    "    print(\"We fail to reject the H0 : There is no big difference between the two groups\")"
   ]
  },
  {
   "cell_type": "code",
   "execution_count": 201,
   "id": "2c9d1538",
   "metadata": {},
   "outputs": [],
   "source": [
    "Dis_grouped = Discounted_df.groupby('Product ID', as_index = False)['Quantity'].sum().reset_index()\n",
    "UnDis_grouped = UnDiscounted_df.groupby('Product ID', as_index = False)['Quantity'].sum().reset_index()\n",
    "\n",
    "Dis_grouped['Profit'] = Discounted_df.groupby('Product ID', as_index = False)['Profit'].mean().reset_index()['Profit']\n",
    "UnDis_grouped['Profit'] = UnDiscounted_df.groupby('Product ID', as_index = False)['Profit'].mean().reset_index()['Profit']"
   ]
  },
  {
   "cell_type": "code",
   "execution_count": 202,
   "id": "1b343e7a",
   "metadata": {},
   "outputs": [
    {
     "data": {
      "text/html": [
       "<div>\n",
       "<style scoped>\n",
       "    .dataframe tbody tr th:only-of-type {\n",
       "        vertical-align: middle;\n",
       "    }\n",
       "\n",
       "    .dataframe tbody tr th {\n",
       "        vertical-align: top;\n",
       "    }\n",
       "\n",
       "    .dataframe thead th {\n",
       "        text-align: right;\n",
       "    }\n",
       "</style>\n",
       "<table border=\"1\" class=\"dataframe\">\n",
       "  <thead>\n",
       "    <tr style=\"text-align: right;\">\n",
       "      <th></th>\n",
       "      <th>Product ID</th>\n",
       "      <th>Quantity_Dis</th>\n",
       "      <th>Profit_Dis</th>\n",
       "      <th>Quantity_UnDis</th>\n",
       "      <th>Profit_UnDis</th>\n",
       "    </tr>\n",
       "  </thead>\n",
       "  <tbody>\n",
       "    <tr>\n",
       "      <th>0</th>\n",
       "      <td>1</td>\n",
       "      <td>35</td>\n",
       "      <td>6.716000</td>\n",
       "      <td>39</td>\n",
       "      <td>57.463846</td>\n",
       "    </tr>\n",
       "    <tr>\n",
       "      <th>1</th>\n",
       "      <td>2</td>\n",
       "      <td>10</td>\n",
       "      <td>-28.203333</td>\n",
       "      <td>16</td>\n",
       "      <td>23.470000</td>\n",
       "    </tr>\n",
       "    <tr>\n",
       "      <th>2</th>\n",
       "      <td>3</td>\n",
       "      <td>48</td>\n",
       "      <td>-39.223333</td>\n",
       "      <td>43</td>\n",
       "      <td>18.957273</td>\n",
       "    </tr>\n",
       "    <tr>\n",
       "      <th>3</th>\n",
       "      <td>4</td>\n",
       "      <td>87</td>\n",
       "      <td>-8.330526</td>\n",
       "      <td>44</td>\n",
       "      <td>15.642941</td>\n",
       "    </tr>\n",
       "    <tr>\n",
       "      <th>4</th>\n",
       "      <td>5</td>\n",
       "      <td>27</td>\n",
       "      <td>-27.678333</td>\n",
       "      <td>25</td>\n",
       "      <td>115.706250</td>\n",
       "    </tr>\n",
       "    <tr>\n",
       "      <th>...</th>\n",
       "      <td>...</td>\n",
       "      <td>...</td>\n",
       "      <td>...</td>\n",
       "      <td>...</td>\n",
       "      <td>...</td>\n",
       "    </tr>\n",
       "    <tr>\n",
       "      <th>3248</th>\n",
       "      <td>3666</td>\n",
       "      <td>17</td>\n",
       "      <td>-10.062500</td>\n",
       "      <td>13</td>\n",
       "      <td>0.433333</td>\n",
       "    </tr>\n",
       "    <tr>\n",
       "      <th>3249</th>\n",
       "      <td>3668</td>\n",
       "      <td>8</td>\n",
       "      <td>19.785000</td>\n",
       "      <td>3</td>\n",
       "      <td>47.810000</td>\n",
       "    </tr>\n",
       "    <tr>\n",
       "      <th>3250</th>\n",
       "      <td>3669</td>\n",
       "      <td>14</td>\n",
       "      <td>15.633333</td>\n",
       "      <td>5</td>\n",
       "      <td>41.865000</td>\n",
       "    </tr>\n",
       "    <tr>\n",
       "      <th>3251</th>\n",
       "      <td>3670</td>\n",
       "      <td>2</td>\n",
       "      <td>1.030000</td>\n",
       "      <td>6</td>\n",
       "      <td>5.985000</td>\n",
       "    </tr>\n",
       "    <tr>\n",
       "      <th>3252</th>\n",
       "      <td>3671</td>\n",
       "      <td>23</td>\n",
       "      <td>54.551667</td>\n",
       "      <td>9</td>\n",
       "      <td>170.506667</td>\n",
       "    </tr>\n",
       "  </tbody>\n",
       "</table>\n",
       "<p>3253 rows × 5 columns</p>\n",
       "</div>"
      ],
      "text/plain": [
       "      Product ID  Quantity_Dis  Profit_Dis  Quantity_UnDis  Profit_UnDis\n",
       "0              1            35    6.716000              39     57.463846\n",
       "1              2            10  -28.203333              16     23.470000\n",
       "2              3            48  -39.223333              43     18.957273\n",
       "3              4            87   -8.330526              44     15.642941\n",
       "4              5            27  -27.678333              25    115.706250\n",
       "...          ...           ...         ...             ...           ...\n",
       "3248        3666            17  -10.062500              13      0.433333\n",
       "3249        3668             8   19.785000               3     47.810000\n",
       "3250        3669            14   15.633333               5     41.865000\n",
       "3251        3670             2    1.030000               6      5.985000\n",
       "3252        3671            23   54.551667               9    170.506667\n",
       "\n",
       "[3253 rows x 5 columns]"
      ]
     },
     "execution_count": 202,
     "metadata": {},
     "output_type": "execute_result"
    }
   ],
   "source": [
    "merged = pd.merge(Dis_grouped[['Product ID','Quantity','Profit']],UnDis_grouped[['Product ID','Quantity','Profit']], on = 'Product ID', suffixes = ('_Dis','_UnDis'))\n",
    "merged"
   ]
  },
  {
   "cell_type": "code",
   "execution_count": 210,
   "id": "d1a44a3a",
   "metadata": {},
   "outputs": [
    {
     "data": {
      "image/png": "[encoded data removed]",
      "text/plain": [
       "<Figure size 640x480 with 1 Axes>"
      ]
     },
     "metadata": {},
     "output_type": "display_data"
    }
   ],
   "source": [
    "ax = plt.figure()\n",
    "ax = plt.plot(merged['Quantity_Dis'], alpha = 0.5, color='red', label = 'Discounted Products')\n",
    "ax = plt.plot(merged['Quantity_UnDis'], alpha = 0.5, color='blue', label = 'Undiscounted Products')\n",
    "ax = plt.ylabel('Quanntity of Sold items')\n",
    "ax = plt.xlabel('Products')\n",
    "plt.legend()\n",
    "plt.show()"
   ]
  },
  {
   "cell_type": "code",
   "execution_count": 216,
   "id": "7bb9a631",
   "metadata": {},
   "outputs": [
    {
     "data": {
      "text/plain": [
       "229"
      ]
     },
     "execution_count": 216,
     "metadata": {},
     "output_type": "execute_result"
    }
   ],
   "source": [
    "merged['Quantity_UnDis'].max()"
   ]
  },
  {
   "cell_type": "code",
   "execution_count": 219,
   "id": "e6e57088",
   "metadata": {},
   "outputs": [
    {
     "data": {
      "image/png": "[encoded data removed]",
      "text/plain": [
       "<Figure size 640x480 with 1 Axes>"
      ]
     },
     "metadata": {},
     "output_type": "display_data"
    }
   ],
   "source": [
    "plt.figure()\n",
    "plt.hist(merged['Quantity_Dis'], bins = 12, alpha = 0.4, label = 'Discounted', color = 'red')\n",
    "plt.hist(merged['Quantity_UnDis'], bins = 12, alpha = 0.4, label = 'UnDiscounted', color = 'blue')\n",
    "plt.legend()\n",
    "plt.xlabel('Quantity Sold')\n",
    "plt.ylabel('Amount')\n",
    "plt.title('Distribution of Quantity Sold for Dis and UnDis Products')\n",
    "plt.show()\n"
   ]
  },
  {
   "cell_type": "code",
   "execution_count": 205,
   "id": "438c3827",
   "metadata": {},
   "outputs": [
    {
     "data": {
      "image/png": "[encoded data removed]",
      "text/plain": [
       "<Figure size 640x480 with 1 Axes>"
      ]
     },
     "metadata": {},
     "output_type": "display_data"
    }
   ],
   "source": [
    "ax = plt.figure()\n",
    "ax = plt.plot(merged['Profit_Dis'], alpha = 0.4, color='red', label = 'Discounted Products')\n",
    "ax = plt.plot(merged['Profit_UnDis'], alpha = 0.4, color='blue', label = 'Undiscounted Products')\n",
    "ax = plt.ylabel('Profit')\n",
    "ax = plt.xlabel('Products')\n",
    "plt.legend()\n",
    "plt.show()"
   ]
  },
  {
   "cell_type": "code",
   "execution_count": 206,
   "id": "48535e8d",
   "metadata": {},
   "outputs": [
    {
     "name": "stdout",
     "output_type": "stream",
     "text": [
      "mann Whitney u p-value: 2.1234682864499316e-12\n"
     ]
    }
   ],
   "source": [
    "u_stat, p_value = mannwhitneyu(merged['Quantity_Dis'], merged['Quantity_UnDis'])\n",
    "print(\"mann Whitney u p-value:\", p_value)"
   ]
  },
  {
   "cell_type": "code",
   "execution_count": 207,
   "id": "ec15bead",
   "metadata": {},
   "outputs": [
    {
     "name": "stdout",
     "output_type": "stream",
     "text": [
      "mann Whitney u p-value: 0.0\n"
     ]
    }
   ],
   "source": [
    "u_stat, p_value = mannwhitneyu(merged['Profit_Dis'], merged['Profit_UnDis'])\n",
    "print(\"mann Whitney u p-value:\", p_value)"
   ]
  },
  {
   "cell_type": "markdown",
   "id": "8c3b677d",
   "metadata": {},
   "source": [
    "So from these results we can confidentally reject the null hypthoesis (H0)"
   ]
  },
  {
   "cell_type": "markdown",
   "id": "6cf95951",
   "metadata": {},
   "source": [
    "As we can see in here we have much more profit in undiscounted products compared to the discounted ones"
   ]
  },
  {
   "cell_type": "markdown",
   "id": "dae8a011",
   "metadata": {},
   "source": [
    "So in conclusion we sell less and profit less when the items are discounted, it seems strange but it could be some marketing strategy, they could make some unpopular items discounted (limited) to make them more popular or even to get rid of some items that are on the edge of being expired, so we conclude that making items discounted does not increase profit or even sales in an item, but they could have some passive effects behind the curtain, they could make some name for the company and afteer the product is known items go back to the normal retail price"
   ]
  }
 ],
 "metadata": {
  "kernelspec": {
   "display_name": "quera",
   "language": "python",
   "name": "python3"
  },
  "language_info": {
   "codemirror_mode": {
    "name": "ipython",
    "version": 3
   },
   "file_extension": ".py",
   "mimetype": "text/x-python",
   "name": "python",
   "nbconvert_exporter": "python",
   "pygments_lexer": "ipython3",
   "version": "3.9.23"
  }
 },
 "nbformat": 4,
 "nbformat_minor": 5
}
