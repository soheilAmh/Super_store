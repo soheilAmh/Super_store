{
 "cells": [
  {
   "cell_type": "markdown",
   "id": "d3cf4de1",
   "metadata": {},
   "source": [
    "Library imports"
   ]
  },
  {
   "cell_type": "code",
   "execution_count": 201,
   "id": "db642da4",
   "metadata": {},
   "outputs": [],
   "source": [
    "import numpy as np\n",
    "import pandas as pd\n",
    "from sqlalchemy import create_engine\n",
    "import matplotlib.pyplot as plt\n",
    "from scipy import stats\n",
    "from scipy.stats import shapiro\n",
    "from scipy.stats import mannwhitneyu"
   ]
  },
  {
   "cell_type": "markdown",
   "id": "c45c35b6",
   "metadata": {},
   "source": [
    "reading files"
   ]
  },
  {
   "cell_type": "code",
   "execution_count": 202,
   "id": "c53902d8",
   "metadata": {},
   "outputs": [
    {
     "data": {
      "text/html": [
       "<div>\n",
       "<style scoped>\n",
       "    .dataframe tbody tr th:only-of-type {\n",
       "        vertical-align: middle;\n",
       "    }\n",
       "\n",
       "    .dataframe tbody tr th {\n",
       "        vertical-align: top;\n",
       "    }\n",
       "\n",
       "    .dataframe thead th {\n",
       "        text-align: right;\n",
       "    }\n",
       "</style>\n",
       "<table border=\"1\" class=\"dataframe\">\n",
       "  <thead>\n",
       "    <tr style=\"text-align: right;\">\n",
       "      <th></th>\n",
       "      <th>Order ID</th>\n",
       "      <th>Product ID</th>\n",
       "      <th>Sales</th>\n",
       "      <th>Quantity</th>\n",
       "      <th>Discount_Label</th>\n",
       "      <th>Profit</th>\n",
       "      <th>Shipping Cost</th>\n",
       "    </tr>\n",
       "  </thead>\n",
       "  <tbody>\n",
       "    <tr>\n",
       "      <th>0</th>\n",
       "      <td>MX-2013-119970</td>\n",
       "      <td>OFF-ST-10000990</td>\n",
       "      <td>263.920013</td>\n",
       "      <td>2</td>\n",
       "      <td>No Discount</td>\n",
       "      <td>5.24</td>\n",
       "      <td>16.439</td>\n",
       "    </tr>\n",
       "    <tr>\n",
       "      <th>1</th>\n",
       "      <td>MX-2013-152219</td>\n",
       "      <td>FUR-CH-10001282</td>\n",
       "      <td>63.520000</td>\n",
       "      <td>2</td>\n",
       "      <td>No Discount</td>\n",
       "      <td>14.60</td>\n",
       "      <td>4.610</td>\n",
       "    </tr>\n",
       "    <tr>\n",
       "      <th>2</th>\n",
       "      <td>MX-2014-121076</td>\n",
       "      <td>FUR-BO-10003287</td>\n",
       "      <td>162.759995</td>\n",
       "      <td>2</td>\n",
       "      <td>No Discount</td>\n",
       "      <td>27.64</td>\n",
       "      <td>6.633</td>\n",
       "    </tr>\n",
       "    <tr>\n",
       "      <th>3</th>\n",
       "      <td>MX-2013-115084</td>\n",
       "      <td>FUR-BO-10003043</td>\n",
       "      <td>191.960007</td>\n",
       "      <td>2</td>\n",
       "      <td>No Discount</td>\n",
       "      <td>30.68</td>\n",
       "      <td>14.717</td>\n",
       "    </tr>\n",
       "    <tr>\n",
       "      <th>4</th>\n",
       "      <td>MX-2014-164294</td>\n",
       "      <td>FUR-BO-10004142</td>\n",
       "      <td>584.200012</td>\n",
       "      <td>2</td>\n",
       "      <td>No Discount</td>\n",
       "      <td>239.52</td>\n",
       "      <td>47.121</td>\n",
       "    </tr>\n",
       "    <tr>\n",
       "      <th>...</th>\n",
       "      <td>...</td>\n",
       "      <td>...</td>\n",
       "      <td>...</td>\n",
       "      <td>...</td>\n",
       "      <td>...</td>\n",
       "      <td>...</td>\n",
       "      <td>...</td>\n",
       "    </tr>\n",
       "    <tr>\n",
       "      <th>49665</th>\n",
       "      <td>MX-2013-141425</td>\n",
       "      <td>OFF-PA-10003838</td>\n",
       "      <td>28.351999</td>\n",
       "      <td>2</td>\n",
       "      <td>Discount</td>\n",
       "      <td>7.43</td>\n",
       "      <td>1.719</td>\n",
       "    </tr>\n",
       "    <tr>\n",
       "      <th>49666</th>\n",
       "      <td>MX-2013-141425</td>\n",
       "      <td>TEC-AC-10003927</td>\n",
       "      <td>61.824001</td>\n",
       "      <td>2</td>\n",
       "      <td>Discount</td>\n",
       "      <td>17.74</td>\n",
       "      <td>2.808</td>\n",
       "    </tr>\n",
       "    <tr>\n",
       "      <th>49667</th>\n",
       "      <td>US-2013-132374</td>\n",
       "      <td>OFF-BI-10004080</td>\n",
       "      <td>44.784000</td>\n",
       "      <td>3</td>\n",
       "      <td>Discount</td>\n",
       "      <td>-11.20</td>\n",
       "      <td>2.494</td>\n",
       "    </tr>\n",
       "    <tr>\n",
       "      <th>49668</th>\n",
       "      <td>US-2014-115658</td>\n",
       "      <td>OFF-BI-10003392</td>\n",
       "      <td>23.712000</td>\n",
       "      <td>3</td>\n",
       "      <td>Discount</td>\n",
       "      <td>-2.09</td>\n",
       "      <td>1.482</td>\n",
       "    </tr>\n",
       "    <tr>\n",
       "      <th>49669</th>\n",
       "      <td>MX-2014-150427</td>\n",
       "      <td>OFF-ST-10003800</td>\n",
       "      <td>15.872000</td>\n",
       "      <td>1</td>\n",
       "      <td>Discount</td>\n",
       "      <td>2.37</td>\n",
       "      <td>0.605</td>\n",
       "    </tr>\n",
       "  </tbody>\n",
       "</table>\n",
       "<p>49670 rows × 7 columns</p>\n",
       "</div>"
      ],
      "text/plain": [
       "             Order ID       Product ID       Sales  Quantity Discount_Label  \\\n",
       "0      MX-2013-119970  OFF-ST-10000990  263.920013         2    No Discount   \n",
       "1      MX-2013-152219  FUR-CH-10001282   63.520000         2    No Discount   \n",
       "2      MX-2014-121076  FUR-BO-10003287  162.759995         2    No Discount   \n",
       "3      MX-2013-115084  FUR-BO-10003043  191.960007         2    No Discount   \n",
       "4      MX-2014-164294  FUR-BO-10004142  584.200012         2    No Discount   \n",
       "...               ...              ...         ...       ...            ...   \n",
       "49665  MX-2013-141425  OFF-PA-10003838   28.351999         2       Discount   \n",
       "49666  MX-2013-141425  TEC-AC-10003927   61.824001         2       Discount   \n",
       "49667  US-2013-132374  OFF-BI-10004080   44.784000         3       Discount   \n",
       "49668  US-2014-115658  OFF-BI-10003392   23.712000         3       Discount   \n",
       "49669  MX-2014-150427  OFF-ST-10003800   15.872000         1       Discount   \n",
       "\n",
       "       Profit  Shipping Cost  \n",
       "0        5.24         16.439  \n",
       "1       14.60          4.610  \n",
       "2       27.64          6.633  \n",
       "3       30.68         14.717  \n",
       "4      239.52         47.121  \n",
       "...       ...            ...  \n",
       "49665    7.43          1.719  \n",
       "49666   17.74          2.808  \n",
       "49667  -11.20          2.494  \n",
       "49668   -2.09          1.482  \n",
       "49669    2.37          0.605  \n",
       "\n",
       "[49670 rows x 7 columns]"
      ]
     },
     "execution_count": 202,
     "metadata": {},
     "output_type": "execute_result"
    }
   ],
   "source": [
    "my_df = pd.read_csv('FACT.csv')\n",
    "my_df = my_df[['Order ID','Product ID','Sales','Quantity','Discount_Label','Profit','Shipping Cost']]\n",
    "my_df"
   ]
  },
  {
   "cell_type": "code",
   "execution_count": 203,
   "id": "7e334661",
   "metadata": {},
   "outputs": [
    {
     "name": "stdout",
     "output_type": "stream",
     "text": [
      "<class 'pandas.core.frame.DataFrame'>\n",
      "RangeIndex: 49670 entries, 0 to 49669\n",
      "Data columns (total 7 columns):\n",
      " #   Column          Non-Null Count  Dtype  \n",
      "---  ------          --------------  -----  \n",
      " 0   Order ID        49670 non-null  object \n",
      " 1   Product ID      49670 non-null  object \n",
      " 2   Sales           49670 non-null  float64\n",
      " 3   Quantity        49670 non-null  int64  \n",
      " 4   Discount_Label  49670 non-null  object \n",
      " 5   Profit          49670 non-null  float64\n",
      " 6   Shipping Cost   49670 non-null  float64\n",
      "dtypes: float64(3), int64(1), object(3)\n",
      "memory usage: 2.7+ MB\n"
     ]
    }
   ],
   "source": [
    "my_df.info()"
   ]
  },
  {
   "cell_type": "code",
   "execution_count": 204,
   "id": "7b2a2289",
   "metadata": {},
   "outputs": [
    {
     "data": {
      "text/html": [
       "<div>\n",
       "<style scoped>\n",
       "    .dataframe tbody tr th:only-of-type {\n",
       "        vertical-align: middle;\n",
       "    }\n",
       "\n",
       "    .dataframe tbody tr th {\n",
       "        vertical-align: top;\n",
       "    }\n",
       "\n",
       "    .dataframe thead th {\n",
       "        text-align: right;\n",
       "    }\n",
       "</style>\n",
       "<table border=\"1\" class=\"dataframe\">\n",
       "  <thead>\n",
       "    <tr style=\"text-align: right;\">\n",
       "      <th></th>\n",
       "      <th>Sales</th>\n",
       "      <th>Quantity</th>\n",
       "      <th>Profit</th>\n",
       "      <th>Shipping Cost</th>\n",
       "    </tr>\n",
       "  </thead>\n",
       "  <tbody>\n",
       "    <tr>\n",
       "      <th>count</th>\n",
       "      <td>49670.000000</td>\n",
       "      <td>49670.000000</td>\n",
       "      <td>49670.000000</td>\n",
       "      <td>49670.000000</td>\n",
       "    </tr>\n",
       "    <tr>\n",
       "      <th>mean</th>\n",
       "      <td>243.840355</td>\n",
       "      <td>3.470787</td>\n",
       "      <td>28.392251</td>\n",
       "      <td>26.041125</td>\n",
       "    </tr>\n",
       "    <tr>\n",
       "      <th>std</th>\n",
       "      <td>485.963091</td>\n",
       "      <td>2.274854</td>\n",
       "      <td>172.399533</td>\n",
       "      <td>56.870281</td>\n",
       "    </tr>\n",
       "    <tr>\n",
       "      <th>min</th>\n",
       "      <td>0.444000</td>\n",
       "      <td>1.000000</td>\n",
       "      <td>-6599.980000</td>\n",
       "      <td>0.002000</td>\n",
       "    </tr>\n",
       "    <tr>\n",
       "      <th>25%</th>\n",
       "      <td>30.384001</td>\n",
       "      <td>2.000000</td>\n",
       "      <td>0.000000</td>\n",
       "      <td>2.580000</td>\n",
       "    </tr>\n",
       "    <tr>\n",
       "      <th>50%</th>\n",
       "      <td>83.970001</td>\n",
       "      <td>3.000000</td>\n",
       "      <td>9.155000</td>\n",
       "      <td>7.660000</td>\n",
       "    </tr>\n",
       "    <tr>\n",
       "      <th>75%</th>\n",
       "      <td>247.829998</td>\n",
       "      <td>5.000000</td>\n",
       "      <td>36.267500</td>\n",
       "      <td>23.969000</td>\n",
       "    </tr>\n",
       "    <tr>\n",
       "      <th>max</th>\n",
       "      <td>22638.500000</td>\n",
       "      <td>14.000000</td>\n",
       "      <td>8399.980000</td>\n",
       "      <td>933.570000</td>\n",
       "    </tr>\n",
       "  </tbody>\n",
       "</table>\n",
       "</div>"
      ],
      "text/plain": [
       "              Sales      Quantity        Profit  Shipping Cost\n",
       "count  49670.000000  49670.000000  49670.000000   49670.000000\n",
       "mean     243.840355      3.470787     28.392251      26.041125\n",
       "std      485.963091      2.274854    172.399533      56.870281\n",
       "min        0.444000      1.000000  -6599.980000       0.002000\n",
       "25%       30.384001      2.000000      0.000000       2.580000\n",
       "50%       83.970001      3.000000      9.155000       7.660000\n",
       "75%      247.829998      5.000000     36.267500      23.969000\n",
       "max    22638.500000     14.000000   8399.980000     933.570000"
      ]
     },
     "execution_count": 204,
     "metadata": {},
     "output_type": "execute_result"
    }
   ],
   "source": [
    "my_df.describe()"
   ]
  },
  {
   "cell_type": "code",
   "execution_count": 205,
   "id": "338d5708",
   "metadata": {},
   "outputs": [],
   "source": [
    "UnDiscounted_df = my_df[my_df['Discount_Label'] == 'No Discount'].reset_index(drop = True)\n",
    "Discounted_df = my_df[my_df['Discount_Label'] == 'Discount'].reset_index(drop = True)"
   ]
  },
  {
   "cell_type": "code",
   "execution_count": 206,
   "id": "e45cfbaa",
   "metadata": {},
   "outputs": [
    {
     "data": {
      "text/html": [
       "<div>\n",
       "<style scoped>\n",
       "    .dataframe tbody tr th:only-of-type {\n",
       "        vertical-align: middle;\n",
       "    }\n",
       "\n",
       "    .dataframe tbody tr th {\n",
       "        vertical-align: top;\n",
       "    }\n",
       "\n",
       "    .dataframe thead th {\n",
       "        text-align: right;\n",
       "    }\n",
       "</style>\n",
       "<table border=\"1\" class=\"dataframe\">\n",
       "  <thead>\n",
       "    <tr style=\"text-align: right;\">\n",
       "      <th></th>\n",
       "      <th>Order ID</th>\n",
       "      <th>Product ID</th>\n",
       "      <th>Sales</th>\n",
       "      <th>Quantity</th>\n",
       "      <th>Profit</th>\n",
       "      <th>Shipping Cost</th>\n",
       "    </tr>\n",
       "  </thead>\n",
       "  <tbody>\n",
       "    <tr>\n",
       "      <th>0</th>\n",
       "      <td>MX-2013-119970</td>\n",
       "      <td>OFF-ST-10000990</td>\n",
       "      <td>263.920013</td>\n",
       "      <td>2</td>\n",
       "      <td>5.24</td>\n",
       "      <td>16.439</td>\n",
       "    </tr>\n",
       "    <tr>\n",
       "      <th>1</th>\n",
       "      <td>MX-2013-152219</td>\n",
       "      <td>FUR-CH-10001282</td>\n",
       "      <td>63.520000</td>\n",
       "      <td>2</td>\n",
       "      <td>14.60</td>\n",
       "      <td>4.610</td>\n",
       "    </tr>\n",
       "    <tr>\n",
       "      <th>2</th>\n",
       "      <td>MX-2014-121076</td>\n",
       "      <td>FUR-BO-10003287</td>\n",
       "      <td>162.759995</td>\n",
       "      <td>2</td>\n",
       "      <td>27.64</td>\n",
       "      <td>6.633</td>\n",
       "    </tr>\n",
       "    <tr>\n",
       "      <th>3</th>\n",
       "      <td>MX-2013-115084</td>\n",
       "      <td>FUR-BO-10003043</td>\n",
       "      <td>191.960007</td>\n",
       "      <td>2</td>\n",
       "      <td>30.68</td>\n",
       "      <td>14.717</td>\n",
       "    </tr>\n",
       "    <tr>\n",
       "      <th>4</th>\n",
       "      <td>MX-2014-164294</td>\n",
       "      <td>FUR-BO-10004142</td>\n",
       "      <td>584.200012</td>\n",
       "      <td>2</td>\n",
       "      <td>239.52</td>\n",
       "      <td>47.121</td>\n",
       "    </tr>\n",
       "    <tr>\n",
       "      <th>...</th>\n",
       "      <td>...</td>\n",
       "      <td>...</td>\n",
       "      <td>...</td>\n",
       "      <td>...</td>\n",
       "      <td>...</td>\n",
       "      <td>...</td>\n",
       "    </tr>\n",
       "    <tr>\n",
       "      <th>28098</th>\n",
       "      <td>CA-2013-3990</td>\n",
       "      <td>OFF-ELD-10000151</td>\n",
       "      <td>255.779999</td>\n",
       "      <td>2</td>\n",
       "      <td>30.66</td>\n",
       "      <td>65.790</td>\n",
       "    </tr>\n",
       "    <tr>\n",
       "      <th>28099</th>\n",
       "      <td>HU-2013-8690</td>\n",
       "      <td>OFF-STA-10001895</td>\n",
       "      <td>20.639999</td>\n",
       "      <td>2</td>\n",
       "      <td>9.06</td>\n",
       "      <td>0.440</td>\n",
       "    </tr>\n",
       "    <tr>\n",
       "      <th>28100</th>\n",
       "      <td>MO-2014-9670</td>\n",
       "      <td>OFF-IBI-10000099</td>\n",
       "      <td>29.879999</td>\n",
       "      <td>2</td>\n",
       "      <td>2.64</td>\n",
       "      <td>3.590</td>\n",
       "    </tr>\n",
       "    <tr>\n",
       "      <th>28101</th>\n",
       "      <td>RS-2014-5930</td>\n",
       "      <td>OFF-BOS-10002073</td>\n",
       "      <td>113.639999</td>\n",
       "      <td>2</td>\n",
       "      <td>17.04</td>\n",
       "      <td>13.550</td>\n",
       "    </tr>\n",
       "    <tr>\n",
       "      <th>28102</th>\n",
       "      <td>RS-2014-5930</td>\n",
       "      <td>OFF-STA-10001112</td>\n",
       "      <td>44.939999</td>\n",
       "      <td>2</td>\n",
       "      <td>0.00</td>\n",
       "      <td>11.110</td>\n",
       "    </tr>\n",
       "  </tbody>\n",
       "</table>\n",
       "<p>28103 rows × 6 columns</p>\n",
       "</div>"
      ],
      "text/plain": [
       "             Order ID        Product ID       Sales  Quantity  Profit  \\\n",
       "0      MX-2013-119970   OFF-ST-10000990  263.920013         2    5.24   \n",
       "1      MX-2013-152219   FUR-CH-10001282   63.520000         2   14.60   \n",
       "2      MX-2014-121076   FUR-BO-10003287  162.759995         2   27.64   \n",
       "3      MX-2013-115084   FUR-BO-10003043  191.960007         2   30.68   \n",
       "4      MX-2014-164294   FUR-BO-10004142  584.200012         2  239.52   \n",
       "...               ...               ...         ...       ...     ...   \n",
       "28098    CA-2013-3990  OFF-ELD-10000151  255.779999         2   30.66   \n",
       "28099    HU-2013-8690  OFF-STA-10001895   20.639999         2    9.06   \n",
       "28100    MO-2014-9670  OFF-IBI-10000099   29.879999         2    2.64   \n",
       "28101    RS-2014-5930  OFF-BOS-10002073  113.639999         2   17.04   \n",
       "28102    RS-2014-5930  OFF-STA-10001112   44.939999         2    0.00   \n",
       "\n",
       "       Shipping Cost  \n",
       "0             16.439  \n",
       "1              4.610  \n",
       "2              6.633  \n",
       "3             14.717  \n",
       "4             47.121  \n",
       "...              ...  \n",
       "28098         65.790  \n",
       "28099          0.440  \n",
       "28100          3.590  \n",
       "28101         13.550  \n",
       "28102         11.110  \n",
       "\n",
       "[28103 rows x 6 columns]"
      ]
     },
     "execution_count": 206,
     "metadata": {},
     "output_type": "execute_result"
    }
   ],
   "source": [
    "UnDiscounted_df = UnDiscounted_df.drop('Discount_Label', axis=1)\n",
    "UnDiscounted_df"
   ]
  },
  {
   "cell_type": "code",
   "execution_count": 207,
   "id": "58f77596",
   "metadata": {},
   "outputs": [
    {
     "data": {
      "text/html": [
       "<div>\n",
       "<style scoped>\n",
       "    .dataframe tbody tr th:only-of-type {\n",
       "        vertical-align: middle;\n",
       "    }\n",
       "\n",
       "    .dataframe tbody tr th {\n",
       "        vertical-align: top;\n",
       "    }\n",
       "\n",
       "    .dataframe thead th {\n",
       "        text-align: right;\n",
       "    }\n",
       "</style>\n",
       "<table border=\"1\" class=\"dataframe\">\n",
       "  <thead>\n",
       "    <tr style=\"text-align: right;\">\n",
       "      <th></th>\n",
       "      <th>Order ID</th>\n",
       "      <th>Product ID</th>\n",
       "      <th>Sales</th>\n",
       "      <th>Quantity</th>\n",
       "      <th>Profit</th>\n",
       "      <th>Shipping Cost</th>\n",
       "    </tr>\n",
       "  </thead>\n",
       "  <tbody>\n",
       "    <tr>\n",
       "      <th>0</th>\n",
       "      <td>IN-2013-57914</td>\n",
       "      <td>FUR-CH-10000110</td>\n",
       "      <td>252.839996</td>\n",
       "      <td>7</td>\n",
       "      <td>72.66</td>\n",
       "      <td>18.010</td>\n",
       "    </tr>\n",
       "    <tr>\n",
       "      <th>1</th>\n",
       "      <td>ID-2013-15837</td>\n",
       "      <td>FUR-BO-10001192</td>\n",
       "      <td>586.943970</td>\n",
       "      <td>2</td>\n",
       "      <td>168.74</td>\n",
       "      <td>104.750</td>\n",
       "    </tr>\n",
       "    <tr>\n",
       "      <th>2</th>\n",
       "      <td>ID-2011-77619</td>\n",
       "      <td>FUR-CH-10004572</td>\n",
       "      <td>98.592003</td>\n",
       "      <td>2</td>\n",
       "      <td>22.15</td>\n",
       "      <td>15.390</td>\n",
       "    </tr>\n",
       "    <tr>\n",
       "      <th>3</th>\n",
       "      <td>ID-2012-74630</td>\n",
       "      <td>FUR-CH-10001756</td>\n",
       "      <td>426.359985</td>\n",
       "      <td>11</td>\n",
       "      <td>122.43</td>\n",
       "      <td>65.610</td>\n",
       "    </tr>\n",
       "    <tr>\n",
       "      <th>4</th>\n",
       "      <td>ES-2014-1694278</td>\n",
       "      <td>FUR-CH-10002212</td>\n",
       "      <td>267.119995</td>\n",
       "      <td>2</td>\n",
       "      <td>-40.08</td>\n",
       "      <td>41.610</td>\n",
       "    </tr>\n",
       "    <tr>\n",
       "      <th>...</th>\n",
       "      <td>...</td>\n",
       "      <td>...</td>\n",
       "      <td>...</td>\n",
       "      <td>...</td>\n",
       "      <td>...</td>\n",
       "      <td>...</td>\n",
       "    </tr>\n",
       "    <tr>\n",
       "      <th>21562</th>\n",
       "      <td>MX-2013-141425</td>\n",
       "      <td>OFF-PA-10003838</td>\n",
       "      <td>28.351999</td>\n",
       "      <td>2</td>\n",
       "      <td>7.43</td>\n",
       "      <td>1.719</td>\n",
       "    </tr>\n",
       "    <tr>\n",
       "      <th>21563</th>\n",
       "      <td>MX-2013-141425</td>\n",
       "      <td>TEC-AC-10003927</td>\n",
       "      <td>61.824001</td>\n",
       "      <td>2</td>\n",
       "      <td>17.74</td>\n",
       "      <td>2.808</td>\n",
       "    </tr>\n",
       "    <tr>\n",
       "      <th>21564</th>\n",
       "      <td>US-2013-132374</td>\n",
       "      <td>OFF-BI-10004080</td>\n",
       "      <td>44.784000</td>\n",
       "      <td>3</td>\n",
       "      <td>-11.20</td>\n",
       "      <td>2.494</td>\n",
       "    </tr>\n",
       "    <tr>\n",
       "      <th>21565</th>\n",
       "      <td>US-2014-115658</td>\n",
       "      <td>OFF-BI-10003392</td>\n",
       "      <td>23.712000</td>\n",
       "      <td>3</td>\n",
       "      <td>-2.09</td>\n",
       "      <td>1.482</td>\n",
       "    </tr>\n",
       "    <tr>\n",
       "      <th>21566</th>\n",
       "      <td>MX-2014-150427</td>\n",
       "      <td>OFF-ST-10003800</td>\n",
       "      <td>15.872000</td>\n",
       "      <td>1</td>\n",
       "      <td>2.37</td>\n",
       "      <td>0.605</td>\n",
       "    </tr>\n",
       "  </tbody>\n",
       "</table>\n",
       "<p>21567 rows × 6 columns</p>\n",
       "</div>"
      ],
      "text/plain": [
       "              Order ID       Product ID       Sales  Quantity  Profit  \\\n",
       "0        IN-2013-57914  FUR-CH-10000110  252.839996         7   72.66   \n",
       "1        ID-2013-15837  FUR-BO-10001192  586.943970         2  168.74   \n",
       "2        ID-2011-77619  FUR-CH-10004572   98.592003         2   22.15   \n",
       "3        ID-2012-74630  FUR-CH-10001756  426.359985        11  122.43   \n",
       "4      ES-2014-1694278  FUR-CH-10002212  267.119995         2  -40.08   \n",
       "...                ...              ...         ...       ...     ...   \n",
       "21562   MX-2013-141425  OFF-PA-10003838   28.351999         2    7.43   \n",
       "21563   MX-2013-141425  TEC-AC-10003927   61.824001         2   17.74   \n",
       "21564   US-2013-132374  OFF-BI-10004080   44.784000         3  -11.20   \n",
       "21565   US-2014-115658  OFF-BI-10003392   23.712000         3   -2.09   \n",
       "21566   MX-2014-150427  OFF-ST-10003800   15.872000         1    2.37   \n",
       "\n",
       "       Shipping Cost  \n",
       "0             18.010  \n",
       "1            104.750  \n",
       "2             15.390  \n",
       "3             65.610  \n",
       "4             41.610  \n",
       "...              ...  \n",
       "21562          1.719  \n",
       "21563          2.808  \n",
       "21564          2.494  \n",
       "21565          1.482  \n",
       "21566          0.605  \n",
       "\n",
       "[21567 rows x 6 columns]"
      ]
     },
     "execution_count": 207,
     "metadata": {},
     "output_type": "execute_result"
    }
   ],
   "source": [
    "Discounted_df = Discounted_df.drop('Discount_Label', axis=1)\n",
    "Discounted_df"
   ]
  },
  {
   "cell_type": "code",
   "execution_count": 208,
   "id": "09a53db6",
   "metadata": {},
   "outputs": [
    {
     "name": "stdout",
     "output_type": "stream",
     "text": [
      "Total number of the Discounted products sold : 76962\n",
      "Total number of the UnDiscounted products sold : 95432\n",
      "\n",
      "\n",
      "Average profit of the Discounted products per item : -62.12231464737795\n",
      "Average profit of the UnDiscounted products per item : 294.43631391666366\n"
     ]
    }
   ],
   "source": [
    "quantity_dis = Discounted_df['Quantity']\n",
    "quantity_undis = UnDiscounted_df['Quantity']\n",
    "print(\"Total number of the Discounted products sold :\", quantity_dis.sum())\n",
    "print(\"Total number of the UnDiscounted products sold :\",quantity_undis.sum())\n",
    "print(\"\\n\")\n",
    "print(\"Average profit of the Discounted products per item :\", (Discounted_df['Profit']*quantity_dis).mean())\n",
    "print(\"Average profit of the UnDiscounted products per item :\",(UnDiscounted_df['Profit']*quantity_undis).mean())"
   ]
  },
  {
   "cell_type": "markdown",
   "id": "d7d14553",
   "metadata": {},
   "source": [
    "So we have sold more products that were not discounted in total compared to the ones that were discounted  "
   ]
  },
  {
   "cell_type": "code",
   "execution_count": 209,
   "id": "d3ddd15f",
   "metadata": {},
   "outputs": [
    {
     "data": {
      "image/png": "[encoded data removed]",
      "text/plain": [
       "<Figure size 1000x1000 with 4 Axes>"
      ]
     },
     "metadata": {},
     "output_type": "display_data"
    }
   ],
   "source": [
    "fig, axes = plt.subplots(2, 2, figsize = (10,10), sharey=True)   \n",
    "axes[0,0].plot(UnDiscounted_df['Profit'],'o',color='blue')\n",
    "axes[0,0].set_title('No discount Products')\n",
    "axes[0,0].set_ylabel('Profit')\n",
    "\n",
    "axes[0,1].plot(Discounted_df['Profit'],'o',color='red')\n",
    "axes[0,1].set_title('Discounted Products')\n",
    "axes[0,1].set_ylabel('Profit')\n",
    "\n",
    "axes[1,0].boxplot([UnDiscounted_df['Profit']])\n",
    "axes[1,0].set_title('No discount Products')\n",
    "axes[1,0].set_ylabel('Profit')\n",
    "\n",
    "axes[1,1].boxplot([Discounted_df['Profit']])\n",
    "axes[1,1].set_title('Discounted Products')\n",
    "axes[1,1].set_ylabel('Profit')\n",
    "plt.show()"
   ]
  },
  {
   "cell_type": "code",
   "execution_count": 210,
   "id": "c3bfa485",
   "metadata": {},
   "outputs": [
    {
     "data": {
      "image/png": "[encoded data removed]",
      "text/plain": [
       "<Figure size 640x480 with 1 Axes>"
      ]
     },
     "metadata": {},
     "output_type": "display_data"
    }
   ],
   "source": [
    "plt.figure()\n",
    "plt.hist(Discounted_df['Quantity'], bins = 14, alpha = 0.4, label = 'Discounted', color = 'red')\n",
    "plt.hist(UnDiscounted_df['Quantity'], bins = 14, alpha = 0.4, label = 'UnDiscounted', color = 'blue')\n",
    "plt.legend()\n",
    "plt.xlabel('Quantity Sold')\n",
    "plt.ylabel('Amount')\n",
    "plt.title('Distribution of Quantity Sold for Dis and UnDis Products')\n",
    "plt.show()\n"
   ]
  },
  {
   "cell_type": "markdown",
   "id": "81319c65",
   "metadata": {},
   "source": [
    "As we can see almost in every quantity (1-14) the number of sold products in non-discounted items are bigger than the discounted ones"
   ]
  },
  {
   "cell_type": "code",
   "execution_count": 211,
   "id": "568f2965",
   "metadata": {},
   "outputs": [
    {
     "name": "stdout",
     "output_type": "stream",
     "text": [
      "ShapiroResult(statistic=0.8731356691342933, pvalue=8.73201466968743e-84)\n",
      "ShapiroResult(statistic=0.86203124088409, pvalue=8.376934348032687e-92)\n"
     ]
    },
    {
     "name": "stderr",
     "output_type": "stream",
     "text": [
      "d:\\Anaconda\\envs\\quera\\lib\\site-packages\\scipy\\stats\\_axis_nan_policy.py:531: UserWarning: scipy.stats.shapiro: For N > 5000, computed p-value may not be accurate. Current N is 21567.\n",
      "  res = hypotest_fun_out(*samples, **kwds)\n",
      "d:\\Anaconda\\envs\\quera\\lib\\site-packages\\scipy\\stats\\_axis_nan_policy.py:531: UserWarning: scipy.stats.shapiro: For N > 5000, computed p-value may not be accurate. Current N is 28103.\n",
      "  res = hypotest_fun_out(*samples, **kwds)\n"
     ]
    }
   ],
   "source": [
    "print(shapiro(Discounted_df['Quantity']))\n",
    "print(shapiro(UnDiscounted_df['Quantity']))"
   ]
  },
  {
   "cell_type": "code",
   "execution_count": 212,
   "id": "6f9a6410",
   "metadata": {},
   "outputs": [
    {
     "name": "stdout",
     "output_type": "stream",
     "text": [
      "ShapiroResult(statistic=0.9479994325221658, pvalue=1.4729218540269416e-64)\n",
      "ShapiroResult(statistic=0.9349343062336275, pvalue=1.637708620980721e-74)\n"
     ]
    }
   ],
   "source": [
    "# now i will use boxcox transformation to see if the data can be normalized or not\n",
    "discounted_quantity_transformed, lam = stats.boxcox(Discounted_df['Quantity'])\n",
    "undiscounted_quantity_transformed, lam2 = stats.boxcox(UnDiscounted_df['Quantity'])\n",
    "print(shapiro(discounted_quantity_transformed))\n",
    "print(shapiro(undiscounted_quantity_transformed))"
   ]
  },
  {
   "cell_type": "markdown",
   "id": "9166cbbe",
   "metadata": {},
   "source": [
    "As we can see the data is not normal even after boxcox transformation so we cannot use tests like T-Test or Anova and we should refer to non-parametric tests like mannwhitneyu"
   ]
  },
  {
   "cell_type": "code",
   "execution_count": 213,
   "id": "8b810195",
   "metadata": {},
   "outputs": [
    {
     "name": "stdout",
     "output_type": "stream",
     "text": [
      "mann Whitney u p-value: 1.2366179467933793e-30\n"
     ]
    }
   ],
   "source": [
    "u_stat, p_value = mannwhitneyu(Discounted_df['Quantity'], UnDiscounted_df['Quantity'])\n",
    "print(\"mann Whitney u p-value:\", p_value)"
   ]
  },
  {
   "cell_type": "code",
   "execution_count": 214,
   "id": "4810e042",
   "metadata": {},
   "outputs": [
    {
     "name": "stdout",
     "output_type": "stream",
     "text": [
      "We reject the H0 : There is a big difference between the two groups\n"
     ]
    }
   ],
   "source": [
    "if p_value < 0.05:\n",
    "    print(\"We reject the H0 : There is a big difference between the two groups\")\n",
    "else:\n",
    "    print(\"We fail to reject the H0 : There is no big difference between the two groups\")"
   ]
  },
  {
   "cell_type": "code",
   "execution_count": 215,
   "id": "2c9d1538",
   "metadata": {},
   "outputs": [],
   "source": [
    "Dis_grouped = Discounted_df.groupby('Product ID', as_index = False)['Quantity'].sum().reset_index()\n",
    "UnDis_grouped = UnDiscounted_df.groupby('Product ID', as_index = False)['Quantity'].sum().reset_index()\n",
    "Dis_grouped['Profit'] = Discounted_df.groupby('Product ID', as_index = False)['Profit'].mean().reset_index()['Profit']\n",
    "UnDis_grouped['Profit'] = UnDiscounted_df.groupby('Product ID', as_index = False)['Profit'].mean().reset_index()['Profit']"
   ]
  },
  {
   "cell_type": "code",
   "execution_count": 216,
   "id": "1b343e7a",
   "metadata": {},
   "outputs": [
    {
     "data": {
      "text/html": [
       "<div>\n",
       "<style scoped>\n",
       "    .dataframe tbody tr th:only-of-type {\n",
       "        vertical-align: middle;\n",
       "    }\n",
       "\n",
       "    .dataframe tbody tr th {\n",
       "        vertical-align: top;\n",
       "    }\n",
       "\n",
       "    .dataframe thead th {\n",
       "        text-align: right;\n",
       "    }\n",
       "</style>\n",
       "<table border=\"1\" class=\"dataframe\">\n",
       "  <thead>\n",
       "    <tr style=\"text-align: right;\">\n",
       "      <th></th>\n",
       "      <th>Product ID</th>\n",
       "      <th>Quantity_Dis</th>\n",
       "      <th>Profit_Dis</th>\n",
       "      <th>Quantity_UnDis</th>\n",
       "      <th>Profit_UnDis</th>\n",
       "    </tr>\n",
       "  </thead>\n",
       "  <tbody>\n",
       "    <tr>\n",
       "      <th>0</th>\n",
       "      <td>FUR-ADV-10000183</td>\n",
       "      <td>20</td>\n",
       "      <td>-219.116667</td>\n",
       "      <td>11</td>\n",
       "      <td>1.122</td>\n",
       "    </tr>\n",
       "    <tr>\n",
       "      <th>1</th>\n",
       "      <td>FUR-ADV-10000188</td>\n",
       "      <td>3</td>\n",
       "      <td>-13.380000</td>\n",
       "      <td>4</td>\n",
       "      <td>10.320</td>\n",
       "    </tr>\n",
       "    <tr>\n",
       "      <th>2</th>\n",
       "      <td>FUR-ADV-10001283</td>\n",
       "      <td>2</td>\n",
       "      <td>-111.170000</td>\n",
       "      <td>1</td>\n",
       "      <td>22.200</td>\n",
       "    </tr>\n",
       "    <tr>\n",
       "      <th>3</th>\n",
       "      <td>FUR-ADV-10001659</td>\n",
       "      <td>2</td>\n",
       "      <td>-15.780000</td>\n",
       "      <td>8</td>\n",
       "      <td>6.528</td>\n",
       "    </tr>\n",
       "    <tr>\n",
       "      <th>4</th>\n",
       "      <td>FUR-ADV-10001855</td>\n",
       "      <td>1</td>\n",
       "      <td>-8.710000</td>\n",
       "      <td>3</td>\n",
       "      <td>7.110</td>\n",
       "    </tr>\n",
       "    <tr>\n",
       "      <th>...</th>\n",
       "      <td>...</td>\n",
       "      <td>...</td>\n",
       "      <td>...</td>\n",
       "      <td>...</td>\n",
       "      <td>...</td>\n",
       "    </tr>\n",
       "    <tr>\n",
       "      <th>6533</th>\n",
       "      <td>TEC-STA-10003447</td>\n",
       "      <td>1</td>\n",
       "      <td>-106.940000</td>\n",
       "      <td>7</td>\n",
       "      <td>106.890</td>\n",
       "    </tr>\n",
       "    <tr>\n",
       "      <th>6534</th>\n",
       "      <td>TEC-STA-10003550</td>\n",
       "      <td>1</td>\n",
       "      <td>-78.720000</td>\n",
       "      <td>13</td>\n",
       "      <td>45.942</td>\n",
       "    </tr>\n",
       "    <tr>\n",
       "      <th>6535</th>\n",
       "      <td>TEC-STA-10003925</td>\n",
       "      <td>2</td>\n",
       "      <td>-57.280000</td>\n",
       "      <td>6</td>\n",
       "      <td>81.780</td>\n",
       "    </tr>\n",
       "    <tr>\n",
       "      <th>6536</th>\n",
       "      <td>TEC-STA-10004181</td>\n",
       "      <td>1</td>\n",
       "      <td>-147.110000</td>\n",
       "      <td>10</td>\n",
       "      <td>66.000</td>\n",
       "    </tr>\n",
       "    <tr>\n",
       "      <th>6537</th>\n",
       "      <td>TEC-STA-10004542</td>\n",
       "      <td>1</td>\n",
       "      <td>-18.050000</td>\n",
       "      <td>22</td>\n",
       "      <td>33.000</td>\n",
       "    </tr>\n",
       "  </tbody>\n",
       "</table>\n",
       "<p>6538 rows × 5 columns</p>\n",
       "</div>"
      ],
      "text/plain": [
       "            Product ID  Quantity_Dis  Profit_Dis  Quantity_UnDis  Profit_UnDis\n",
       "0     FUR-ADV-10000183            20 -219.116667              11         1.122\n",
       "1     FUR-ADV-10000188             3  -13.380000               4        10.320\n",
       "2     FUR-ADV-10001283             2 -111.170000               1        22.200\n",
       "3     FUR-ADV-10001659             2  -15.780000               8         6.528\n",
       "4     FUR-ADV-10001855             1   -8.710000               3         7.110\n",
       "...                ...           ...         ...             ...           ...\n",
       "6533  TEC-STA-10003447             1 -106.940000               7       106.890\n",
       "6534  TEC-STA-10003550             1  -78.720000              13        45.942\n",
       "6535  TEC-STA-10003925             2  -57.280000               6        81.780\n",
       "6536  TEC-STA-10004181             1 -147.110000              10        66.000\n",
       "6537  TEC-STA-10004542             1  -18.050000              22        33.000\n",
       "\n",
       "[6538 rows x 5 columns]"
      ]
     },
     "execution_count": 216,
     "metadata": {},
     "output_type": "execute_result"
    }
   ],
   "source": [
    "merged = pd.merge(Dis_grouped[['Product ID','Quantity','Profit']],UnDis_grouped[['Product ID','Quantity','Profit']], on = 'Product ID', suffixes = ('_Dis','_UnDis'))\n",
    "merged"
   ]
  },
  {
   "cell_type": "code",
   "execution_count": 217,
   "id": "d1a44a3a",
   "metadata": {},
   "outputs": [
    {
     "data": {
      "image/png": "[encoded data removed]",
      "text/plain": [
       "<Figure size 640x480 with 1 Axes>"
      ]
     },
     "metadata": {},
     "output_type": "display_data"
    }
   ],
   "source": [
    "ax = plt.figure()\n",
    "ax = plt.plot(merged['Quantity_Dis'], alpha = 0.5, color='red', label = 'Discounted Products')\n",
    "ax = plt.plot(merged['Quantity_UnDis'], alpha = 0.5, color='blue', label = 'Undiscounted Products')\n",
    "ax = plt.ylabel('Quanntity of Sold items')\n",
    "ax = plt.xlabel('Products')\n",
    "plt.legend()\n",
    "plt.show()"
   ]
  },
  {
   "cell_type": "code",
   "execution_count": 218,
   "id": "e6e57088",
   "metadata": {},
   "outputs": [
    {
     "data": {
      "image/png": "[encoded data removed]",
      "text/plain": [
       "<Figure size 640x480 with 1 Axes>"
      ]
     },
     "metadata": {},
     "output_type": "display_data"
    }
   ],
   "source": [
    "plt.figure()\n",
    "plt.hist(merged['Quantity_Dis'], bins = 14, alpha = 0.4, label = 'Discounted', color = 'red')\n",
    "plt.hist(merged['Quantity_UnDis'], bins = 14, alpha = 0.4, label = 'UnDiscounted', color = 'blue')\n",
    "plt.legend()\n",
    "plt.xlabel('Quantity Sold')\n",
    "plt.ylabel('Amount')\n",
    "plt.title('Distribution of Quantity Sold for Dis and UnDis Products')\n",
    "plt.show()\n"
   ]
  },
  {
   "cell_type": "code",
   "execution_count": 219,
   "id": "48535e8d",
   "metadata": {},
   "outputs": [
    {
     "name": "stdout",
     "output_type": "stream",
     "text": [
      "mann Whitney u p-value: 1.0458955716955667e-37\n"
     ]
    }
   ],
   "source": [
    "u_stat, p_value = mannwhitneyu(merged['Quantity_Dis'], merged['Quantity_UnDis'])\n",
    "print(\"mann Whitney u p-value:\", p_value)"
   ]
  },
  {
   "cell_type": "code",
   "execution_count": 220,
   "id": "ec15bead",
   "metadata": {},
   "outputs": [
    {
     "name": "stdout",
     "output_type": "stream",
     "text": [
      "mann Whitney u p-value: 0.0\n"
     ]
    }
   ],
   "source": [
    "u_stat, p_value = mannwhitneyu(merged['Profit_Dis'], merged['Profit_UnDis'])\n",
    "print(\"mann Whitney u p-value:\", p_value)"
   ]
  },
  {
   "cell_type": "markdown",
   "id": "8c3b677d",
   "metadata": {},
   "source": [
    "So from these results we can confidentally reject the null hypthoesis (H0)"
   ]
  },
  {
   "cell_type": "code",
   "execution_count": 222,
   "id": "438c3827",
   "metadata": {},
   "outputs": [
    {
     "data": {
      "image/png": "[encoded data removed]",
      "text/plain": [
       "<Figure size 640x480 with 1 Axes>"
      ]
     },
     "metadata": {},
     "output_type": "display_data"
    }
   ],
   "source": [
    "ax = plt.figure()\n",
    "ax = plt.plot(merged['Profit_Dis'], alpha = 0.4, color='red', label = 'Discounted Products')\n",
    "ax = plt.plot(merged['Profit_UnDis'], alpha = 0.4, color='blue', label = 'Undiscounted Products')\n",
    "ax = plt.ylabel('Profit')\n",
    "ax = plt.xlabel('Products')\n",
    "plt.legend()\n",
    "plt.show()"
   ]
  },
  {
   "cell_type": "markdown",
   "id": "6cf95951",
   "metadata": {},
   "source": [
    "As we can see in here we have much more profit in undiscounted products compared to the discounted ones"
   ]
  },
  {
   "cell_type": "markdown",
   "id": "dae8a011",
   "metadata": {},
   "source": [
    "So in conclusion we sell less and profit less when the items are discounted, it seems strange but it could be some marketing strategy, they could make some unpopular items discounted (limited) to make them more popular or even to get rid of some items that are on the edge of being expired, so we conclude that making items discounted does not increase profit or even sales in an item, but they could have some passive effects behind the curtain, they could make some name for the company and afteer the product is known items go back to the normal retail price"
   ]
  }
 ],
 "metadata": {
  "kernelspec": {
   "display_name": "quera",
   "language": "python",
   "name": "python3"
  },
  "language_info": {
   "codemirror_mode": {
    "name": "ipython",
    "version": 3
   },
   "file_extension": ".py",
   "mimetype": "text/x-python",
   "name": "python",
   "nbconvert_exporter": "python",
   "pygments_lexer": "ipython3",
   "version": "3.9.23"
  }
 },
 "nbformat": 4,
 "nbformat_minor": 5
}
